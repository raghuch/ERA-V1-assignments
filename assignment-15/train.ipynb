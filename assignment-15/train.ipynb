{
 "cells": [
  {
   "cell_type": "code",
   "execution_count": 1,
   "metadata": {},
   "outputs": [
    {
     "name": "stderr",
     "output_type": "stream",
     "text": [
      "/usr/lib/python3/dist-packages/pkg_resources/__init__.py:116: PkgResourcesDeprecationWarning: 1.1build1 is an invalid version and will not be supported in a future release\n",
      "  warnings.warn(\n"
     ]
    },
    {
     "name": "stdout",
     "output_type": "stream",
     "text": [
      "Using device: cuda\n",
      "Max length of source sentence: 309\n",
      "Max length of target sentence: 274\n",
      "Building transformer... \n",
      "InputEmbeddings\n",
      "building positional encoding\n",
      "building encoder_blocks\n",
      "building decoder_blocks\n",
      "Build Encoder and Decoder\n",
      "Build projection_layer\n",
      "Build transformer\n"
     ]
    },
    {
     "name": "stderr",
     "output_type": "stream",
     "text": [
      "Processing Epoch 00: 100%|██████████| 1819/1819 [03:50<00:00,  7.91it/s, loss=5.698]\n",
      "/bin/sh: 1: ssty: not found\n"
     ]
    },
    {
     "name": "stdout",
     "output_type": "stream",
     "text": [
      "--------------------------------------------------------------------------------\n",
      "    SOURCE: It had stopped beating.\n",
      "    TARGET: Il cuore non batteva più.\n",
      " PREDICTED: Il viso di lui si occhi .\n",
      "--------------------------------------------------------------------------------\n",
      "    SOURCE: 'Nothing, nothing!' she replied. 'I don't know myself whether it is this lonely life, or nerves...\n",
      "    TARGET: — Nulla, nulla — ella disse. — Io stessa non so: forse la vita solitaria, i nervi...\n",
      " PREDICTED: — No , — disse , — disse , — disse , — disse , — — — disse , — — e non è un po ’ è che non è un ’ altra .\n",
      "--------------------------------------------------------------------------------\n"
     ]
    },
    {
     "name": "stderr",
     "output_type": "stream",
     "text": [
      "Processing Epoch 01: 100%|██████████| 1819/1819 [03:48<00:00,  7.97it/s, loss=5.644]\n",
      "/bin/sh: 1: ssty: not found\n"
     ]
    },
    {
     "name": "stdout",
     "output_type": "stream",
     "text": [
      "--------------------------------------------------------------------------------\n",
      "    SOURCE: The portions were handed round; those who liked took a draught of the water, the mug being common to all.\n",
      "    TARGET: Le parti furono distribuite alle alunne, e quelle che avevano sete presero il boccale, che serviva a tutte.\n",
      " PREDICTED: Il giorno era un ' altra , e il suo momento , che il vento si , in un ’ altra .\n",
      "--------------------------------------------------------------------------------\n",
      "    SOURCE: He counted forty-two of them.\n",
      "    TARGET: Ne contò quarantadue.\n",
      " PREDICTED: Egli si .\n",
      "--------------------------------------------------------------------------------\n"
     ]
    },
    {
     "name": "stderr",
     "output_type": "stream",
     "text": [
      "Processing Epoch 02: 100%|██████████| 1819/1819 [03:48<00:00,  7.97it/s, loss=5.060]\n",
      "/bin/sh: 1: ssty: not found\n"
     ]
    },
    {
     "name": "stdout",
     "output_type": "stream",
     "text": [
      "--------------------------------------------------------------------------------\n",
      "    SOURCE: Turn that Dormouse out of court!\n",
      "    TARGET: Fuori quel Ghiro!\n",
      " PREDICTED: il tè !\n",
      "--------------------------------------------------------------------------------\n",
      "    SOURCE: The once occasional huskiness of his tone was heard no more; and a tremulous quaver, as if of extreme terror, habitually characterized his utterance.\n",
      "    TARGET: Non sentivo più quel tono di voce aspra che prendeva, alle volte, prima; e un tremito che si sarebbe detto causato da un estremo terrore caratterizzava ordinariamente la sua pronuncia.\n",
      " PREDICTED: Il suo momento era un ’ espressione di lei , ma non era un uomo , e che , come se ne fosse stato di nuovo .\n",
      "--------------------------------------------------------------------------------\n"
     ]
    },
    {
     "name": "stderr",
     "output_type": "stream",
     "text": [
      "Processing Epoch 03: 100%|██████████| 1819/1819 [03:48<00:00,  7.96it/s, loss=5.128]\n",
      "/bin/sh: 1: ssty: not found\n"
     ]
    },
    {
     "name": "stdout",
     "output_type": "stream",
     "text": [
      "--------------------------------------------------------------------------------\n",
      "    SOURCE: \"I believe you must, Jane. I am sorry, Janet, but I believe indeed you must.\"\n",
      "    TARGET: — Credo di sì, Jane; ne sono dolente, ma lo credo necessario.\n",
      " PREDICTED: — Vi ho detto , Jane , Jane , ma mi pare che mi .\n",
      "--------------------------------------------------------------------------------\n",
      "    SOURCE: And it should have been like this...'\n",
      "    TARGET: E deve esser così....\n",
      " PREDICTED: E questo è così così ...\n",
      "--------------------------------------------------------------------------------\n"
     ]
    },
    {
     "name": "stderr",
     "output_type": "stream",
     "text": [
      "Processing Epoch 04: 100%|██████████| 1819/1819 [03:48<00:00,  7.98it/s, loss=4.689]\n",
      "/bin/sh: 1: ssty: not found\n"
     ]
    },
    {
     "name": "stdout",
     "output_type": "stream",
     "text": [
      "--------------------------------------------------------------------------------\n",
      "    SOURCE: And Levin noticed that all day long the sick man really kept catching at himself as if wishing to pull something off.\n",
      "    TARGET: In realtà, egli aveva notato che tutto quel giorno il malato aveva afferrato quello che aveva addosso e pareva che volesse strappar via qualcosa.\n",
      " PREDICTED: E Levin si avvicinò a questo giorno , si sentì in un momento che , come se stesso , come se stesso , si .\n",
      "--------------------------------------------------------------------------------\n",
      "    SOURCE: After supper, you find your tobacco is damp, and you cannot smoke.\n",
      "    TARGET: Dopo cena, si trova che il tabacco è umido, e non si può fumare.\n",
      " PREDICTED: Dopo aver terminato di voi , non vi è più e non potete .\n",
      "--------------------------------------------------------------------------------\n"
     ]
    },
    {
     "name": "stderr",
     "output_type": "stream",
     "text": [
      "Processing Epoch 05: 100%|██████████| 1819/1819 [03:48<00:00,  7.97it/s, loss=4.816]\n",
      "/bin/sh: 1: ssty: not found\n"
     ]
    },
    {
     "name": "stdout",
     "output_type": "stream",
     "text": [
      "--------------------------------------------------------------------------------\n",
      "    SOURCE: It is not a thing to be used indiscriminately, but it is good upon occasion: as now, for instance.\n",
      "    TARGET: Bisogna usarne soltanto nei momenti di vero bisogno, come questo.\n",
      " PREDICTED: Non è una cosa sola , ma è la , ma ora , ora , ora , ora , ora , ora , ora , ora , ora , ora , ora , è necessario .\n",
      "--------------------------------------------------------------------------------\n",
      "    SOURCE: One evening when, at bedtime, his sisters and I stood round him, bidding him good-night, he kissed each of them, as was his custom; and, as was equally his custom, he gave me his hand.\n",
      "    TARGET: Una sera le sorelle prima di andare a letto lo circondarono ed egli le abbracciò ambedue; a me dette una stretta di mano.\n",
      " PREDICTED: Un giorno dopo , quando la sua vita era passata , gli dissi , di , le sue sorelle , mi e mi .\n",
      "--------------------------------------------------------------------------------\n"
     ]
    },
    {
     "name": "stderr",
     "output_type": "stream",
     "text": [
      "Processing Epoch 06: 100%|██████████| 1819/1819 [03:47<00:00,  7.98it/s, loss=4.009]\n",
      "/bin/sh: 1: ssty: not found\n"
     ]
    },
    {
     "name": "stdout",
     "output_type": "stream",
     "text": [
      "--------------------------------------------------------------------------------\n",
      "    SOURCE: She also noticed how coldly her father at last responded to Vronsky's bow, and with what good-natured perplexity Vronsky looked at him, trying, but failing, to understand how it was possible not to be friendly disposed toward him, and she blushed.\n",
      "    TARGET: Ma notò pure con quanta freddezza suo padre rispondesse finalmente all’inchino di Vronskij, e come Vronskij guardasse il principe con affettuosa perplessità, cercando di capire come e perché si potesse essere maldisposti verso di lui. E arrossì.\n",
      " PREDICTED: Si vedeva come la sua gelosia di Vronskij , la contessa Lidija Ivanovna prese a e , come a Vronskij , guardava con Vronskij , cercando di non pensare , ma che Vronskij era possibile , e che non poteva essere stata un ’ altra cosa , e si sentiva a disagio .\n",
      "--------------------------------------------------------------------------------\n",
      "    SOURCE: 'I don't understand...' said he.\n",
      "    TARGET: — Non capisco — disse lui.\n",
      " PREDICTED: — Non capisco ... — disse .\n",
      "--------------------------------------------------------------------------------\n"
     ]
    },
    {
     "name": "stderr",
     "output_type": "stream",
     "text": [
      "Processing Epoch 07: 100%|██████████| 1819/1819 [03:48<00:00,  7.97it/s, loss=4.163]\n",
      "/bin/sh: 1: ssty: not found\n"
     ]
    },
    {
     "name": "stdout",
     "output_type": "stream",
     "text": [
      "--------------------------------------------------------------------------------\n",
      "    SOURCE: But she was fond of Levin, and therefore sided with him.\n",
      "    TARGET: Ma ella voleva bene a Levin e perciò era dalla parte sua.\n",
      " PREDICTED: Ma lei era di nuovo di Levin , e perciò lo .\n",
      "--------------------------------------------------------------------------------\n",
      "    SOURCE: Starved and tired enough he was: but he looked happier than when he set out.\n",
      "    TARGET: A mezzanotte tornò gelato, affamato, ma felice nel volto.\n",
      " PREDICTED: e poco mi parve cupo ; ma pareva che fosse felice .\n",
      "--------------------------------------------------------------------------------\n"
     ]
    },
    {
     "name": "stderr",
     "output_type": "stream",
     "text": [
      "Processing Epoch 08: 100%|██████████| 1819/1819 [03:47<00:00,  7.98it/s, loss=3.547]\n",
      "/bin/sh: 1: ssty: not found\n"
     ]
    },
    {
     "name": "stdout",
     "output_type": "stream",
     "text": [
      "--------------------------------------------------------------------------------\n",
      "    SOURCE: Titular Councillor Wenden had been to see the Commander and had lodged a complaint against the officers who had insulted his wife.\n",
      "    TARGET: Al comandante del reggimento si era presentato un impiegato, il consigliere titolare Venden, con una querela contro gli ufficiali che gli avevano offeso la moglie.\n",
      " PREDICTED: consigliere titolare che aveva trovato proprio proprio proprio per vedere il comandante del reggimento e che aveva portato via un ’ altra persona che aveva fatto .\n",
      "--------------------------------------------------------------------------------\n",
      "    SOURCE: 'No, no, I must not think,' she said to herself; 'I must get ready to go.\n",
      "    TARGET: «Non si deve pensare, non si deve — disse a se stessa — bisogna prepararsi.\n",
      " PREDICTED: — No , non bisogna pensare — ella disse . — Bisogna venire .\n",
      "--------------------------------------------------------------------------------\n"
     ]
    },
    {
     "name": "stderr",
     "output_type": "stream",
     "text": [
      "Processing Epoch 09: 100%|██████████| 1819/1819 [03:48<00:00,  7.97it/s, loss=3.940]\n",
      "/bin/sh: 1: ssty: not found\n"
     ]
    },
    {
     "name": "stdout",
     "output_type": "stream",
     "text": [
      "--------------------------------------------------------------------------------\n",
      "    SOURCE: None of your \"Yes, sir, I will send them off at once: the boy will be down there before you are, sir!\" and then fooling about on the landing-stage, and going back to the shop twice to have a row about them, for us.\n",
      "    TARGET: Non ci saremmo contentati dei loro: — Sì, signore, la manderò subito; il ragazzo arriverà laggiù prima di voi, signori — per poi stare a baloccarci sull’approdo e ritornare nel negozio a litigare.\n",
      " PREDICTED: — Per voi , signore , vado subito subito subito . un ragazzo prima che vi , e poi in fondo all ’ estremità dell ’ albero , e poi ci a prua .\n",
      "--------------------------------------------------------------------------------\n",
      "    SOURCE: 'All together!' said Anna laughing and running to meet them, and putting her arms round them she tumbled the whole heap of children – struggling and shrieking joyfully – on to the floor.\n",
      "    TARGET: — Tutti insieme — disse Anna e, ridendo, corse loro incontro e li abbracciò facendo cadere tutto quel mucchio di bambini brulicanti che mandavano strida di entusiasmo.\n",
      " PREDICTED: — Tutti e due — disse Anna , ridendo con le braccia e le braccia le braccia in tutto il proprio splendore e dando a lui i bambini .\n",
      "--------------------------------------------------------------------------------\n"
     ]
    }
   ],
   "source": [
    "from config import get_config\n",
    "cfg = get_config()\n",
    "cfg['batch_size'] = 16\n",
    "cfg['preload'] = None\n",
    "cfg['num_epochs'] = 10\n",
    "\n",
    "from train import train_model\n",
    "\n",
    "train_model(cfg)"
   ]
  },
  {
   "cell_type": "code",
   "execution_count": null,
   "metadata": {},
   "outputs": [],
   "source": []
  },
  {
   "cell_type": "code",
   "execution_count": null,
   "metadata": {},
   "outputs": [],
   "source": []
  },
  {
   "cell_type": "code",
   "execution_count": null,
   "metadata": {},
   "outputs": [],
   "source": []
  }
 ],
 "metadata": {
  "kernelspec": {
   "display_name": "Python 3",
   "language": "python",
   "name": "python3"
  },
  "language_info": {
   "codemirror_mode": {
    "name": "ipython",
    "version": 3
   },
   "file_extension": ".py",
   "mimetype": "text/x-python",
   "name": "python",
   "nbconvert_exporter": "python",
   "pygments_lexer": "ipython3",
   "version": "3.10.12"
  },
  "orig_nbformat": 4
 },
 "nbformat": 4,
 "nbformat_minor": 2
}
