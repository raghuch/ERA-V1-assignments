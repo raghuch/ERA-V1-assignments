{
 "cells": [
  {
   "cell_type": "code",
   "execution_count": 1,
   "metadata": {},
   "outputs": [],
   "source": [
    "import torch\n",
    "import torch.nn as nn\n",
    "import torch.nn.functional as F\n",
    "from torchsummary import summary\n",
    "from tqdm import tqdm"
   ]
  },
  {
   "cell_type": "code",
   "execution_count": 2,
   "metadata": {},
   "outputs": [],
   "source": [
    "from model3 import Net\n",
    "from train_test_loop import *\n",
    "from data_utils import *"
   ]
  },
  {
   "cell_type": "code",
   "execution_count": 3,
   "metadata": {},
   "outputs": [
    {
     "data": {
      "text/plain": [
       "<torch._C.Generator at 0x7f569b75f530>"
      ]
     },
     "execution_count": 3,
     "metadata": {},
     "output_type": "execute_result"
    }
   ],
   "source": [
    "torch.manual_seed(1)"
   ]
  },
  {
   "cell_type": "code",
   "execution_count": 4,
   "metadata": {},
   "outputs": [],
   "source": [
    "BATCH_SIZE=128\n",
    "device = torch.device(\"cuda\" if torch.cuda.is_available() else \"cpu\")"
   ]
  },
  {
   "cell_type": "code",
   "execution_count": 5,
   "metadata": {},
   "outputs": [
    {
     "name": "stdout",
     "output_type": "stream",
     "text": [
      "----------------------------------------------------------------\n",
      "        Layer (type)               Output Shape         Param #\n",
      "================================================================\n",
      "            Conv2d-1            [-1, 8, 26, 26]              72\n",
      "              ReLU-2            [-1, 8, 26, 26]               0\n",
      "       BatchNorm2d-3            [-1, 8, 26, 26]              16\n",
      "           Dropout-4            [-1, 8, 26, 26]               0\n",
      "            Conv2d-5           [-1, 16, 24, 24]           1,152\n",
      "              ReLU-6           [-1, 16, 24, 24]               0\n",
      "       BatchNorm2d-7           [-1, 16, 24, 24]              32\n",
      "           Dropout-8           [-1, 16, 24, 24]               0\n",
      "            Conv2d-9           [-1, 10, 24, 24]             160\n",
      "        MaxPool2d-10           [-1, 10, 12, 12]               0\n",
      "           Conv2d-11           [-1, 16, 10, 10]           1,440\n",
      "             ReLU-12           [-1, 16, 10, 10]               0\n",
      "      BatchNorm2d-13           [-1, 16, 10, 10]              32\n",
      "          Dropout-14           [-1, 16, 10, 10]               0\n",
      "           Conv2d-15             [-1, 16, 8, 8]           2,304\n",
      "             ReLU-16             [-1, 16, 8, 8]               0\n",
      "      BatchNorm2d-17             [-1, 16, 8, 8]              32\n",
      "          Dropout-18             [-1, 16, 8, 8]               0\n",
      "           Conv2d-19             [-1, 16, 6, 6]           2,304\n",
      "             ReLU-20             [-1, 16, 6, 6]               0\n",
      "      BatchNorm2d-21             [-1, 16, 6, 6]              32\n",
      "          Dropout-22             [-1, 16, 6, 6]               0\n",
      "        AvgPool2d-23             [-1, 16, 1, 1]               0\n",
      "           Conv2d-24             [-1, 10, 1, 1]             160\n",
      "================================================================\n",
      "Total params: 7,736\n",
      "Trainable params: 7,736\n",
      "Non-trainable params: 0\n",
      "----------------------------------------------------------------\n",
      "Input size (MB): 0.00\n",
      "Forward/backward pass size (MB): 0.60\n",
      "Params size (MB): 0.03\n",
      "Estimated Total Size (MB): 0.63\n",
      "----------------------------------------------------------------\n"
     ]
    }
   ],
   "source": [
    "model = Net().to(device)\n",
    "summary(model, input_size=(1, 28, 28))"
   ]
  },
  {
   "cell_type": "code",
   "execution_count": 12,
   "metadata": {},
   "outputs": [],
   "source": [
    "default_train_transforms = transforms.Compose([\n",
    "                                       transforms.ColorJitter(brightness=0.10, contrast=0.1, saturation=0.10, hue=0.1),\n",
    "                                    transforms.RandomRotation((-7.0, 7.0), fill=(1,)),\n",
    "                                       transforms.ToTensor(),\n",
    "                                       transforms.Normalize((0.1307,), (0.3081,))]) #None\n",
    "default_test_transforms = transforms.Compose([\n",
    "                        transforms.ToTensor(),\n",
    "                        transforms.Normalize((0.1307,), (0.3081,))\n",
    "                    ]) #None"
   ]
  },
  {
   "cell_type": "code",
   "execution_count": 13,
   "metadata": {},
   "outputs": [],
   "source": [
    "train_dataloader, test_dataloader = get_augmented_MNIST_dataset(\"~/work/data/\", \n",
    "                                    train_tfms=default_train_transforms, test_tfms=default_test_transforms,\n",
    "                                    batch_sz=BATCH_SIZE)"
   ]
  },
  {
   "cell_type": "code",
   "execution_count": 16,
   "metadata": {},
   "outputs": [],
   "source": [
    "optimizer = torch.optim.SGD(model.parameters(), lr=0.05, momentum=0.9)\n",
    "scheduler = get_schedulder(optimizer, \"StepLR\", step_size=8, gamma=0.20)"
   ]
  },
  {
   "cell_type": "code",
   "execution_count": 17,
   "metadata": {},
   "outputs": [
    {
     "name": "stdout",
     "output_type": "stream",
     "text": [
      "Running EPOCH: 1\n"
     ]
    },
    {
     "name": "stderr",
     "output_type": "stream",
     "text": [
      "Loss=0.0029229503124952316 Batch_id=468 Accuracy=99.12: 100%|██████████| 469/469 [00:02<00:00, 158.72it/s]\n"
     ]
    },
    {
     "name": "stdout",
     "output_type": "stream",
     "text": [
      "\n",
      "Test set: Average loss: 0.0216, Accuracy: 9933/10000 (99.33%)\n",
      "\n",
      "Running EPOCH: 2\n"
     ]
    },
    {
     "name": "stderr",
     "output_type": "stream",
     "text": [
      "Loss=0.011236213147640228 Batch_id=468 Accuracy=99.19: 100%|██████████| 469/469 [00:02<00:00, 159.12it/s] \n"
     ]
    },
    {
     "name": "stdout",
     "output_type": "stream",
     "text": [
      "\n",
      "Test set: Average loss: 0.0203, Accuracy: 9937/10000 (99.37%)\n",
      "\n",
      "Running EPOCH: 3\n"
     ]
    },
    {
     "name": "stderr",
     "output_type": "stream",
     "text": [
      "Loss=0.023615345358848572 Batch_id=468 Accuracy=99.19: 100%|██████████| 469/469 [00:02<00:00, 161.13it/s] \n"
     ]
    },
    {
     "name": "stdout",
     "output_type": "stream",
     "text": [
      "\n",
      "Test set: Average loss: 0.0220, Accuracy: 9929/10000 (99.29%)\n",
      "\n",
      "Running EPOCH: 4\n"
     ]
    },
    {
     "name": "stderr",
     "output_type": "stream",
     "text": [
      "Loss=0.021831637248396873 Batch_id=468 Accuracy=99.14: 100%|██████████| 469/469 [00:02<00:00, 164.17it/s] \n"
     ]
    },
    {
     "name": "stdout",
     "output_type": "stream",
     "text": [
      "\n",
      "Test set: Average loss: 0.0186, Accuracy: 9942/10000 (99.42%)\n",
      "\n",
      "Running EPOCH: 5\n"
     ]
    },
    {
     "name": "stderr",
     "output_type": "stream",
     "text": [
      "Loss=0.0024384830612689257 Batch_id=468 Accuracy=99.19: 100%|██████████| 469/469 [00:02<00:00, 160.82it/s]\n"
     ]
    },
    {
     "name": "stdout",
     "output_type": "stream",
     "text": [
      "\n",
      "Test set: Average loss: 0.0241, Accuracy: 9930/10000 (99.30%)\n",
      "\n",
      "Running EPOCH: 6\n"
     ]
    },
    {
     "name": "stderr",
     "output_type": "stream",
     "text": [
      "Loss=0.018069881945848465 Batch_id=468 Accuracy=99.22: 100%|██████████| 469/469 [00:02<00:00, 160.37it/s] \n"
     ]
    },
    {
     "name": "stdout",
     "output_type": "stream",
     "text": [
      "\n",
      "Test set: Average loss: 0.0189, Accuracy: 9944/10000 (99.44%)\n",
      "\n",
      "Running EPOCH: 7\n"
     ]
    },
    {
     "name": "stderr",
     "output_type": "stream",
     "text": [
      "Loss=0.009719417430460453 Batch_id=468 Accuracy=99.20: 100%|██████████| 469/469 [00:02<00:00, 160.93it/s] \n"
     ]
    },
    {
     "name": "stdout",
     "output_type": "stream",
     "text": [
      "\n",
      "Test set: Average loss: 0.0215, Accuracy: 9931/10000 (99.31%)\n",
      "\n",
      "Running EPOCH: 8\n"
     ]
    },
    {
     "name": "stderr",
     "output_type": "stream",
     "text": [
      "Loss=0.032488591969013214 Batch_id=468 Accuracy=99.21: 100%|██████████| 469/469 [00:02<00:00, 159.50it/s] \n"
     ]
    },
    {
     "name": "stdout",
     "output_type": "stream",
     "text": [
      "\n",
      "Test set: Average loss: 0.0211, Accuracy: 9937/10000 (99.37%)\n",
      "\n",
      "Running EPOCH: 9\n"
     ]
    },
    {
     "name": "stderr",
     "output_type": "stream",
     "text": [
      "Loss=0.03466048464179039 Batch_id=468 Accuracy=99.19: 100%|██████████| 469/469 [00:02<00:00, 158.92it/s]  \n"
     ]
    },
    {
     "name": "stdout",
     "output_type": "stream",
     "text": [
      "\n",
      "Test set: Average loss: 0.0203, Accuracy: 9939/10000 (99.39%)\n",
      "\n",
      "Running EPOCH: 10\n"
     ]
    },
    {
     "name": "stderr",
     "output_type": "stream",
     "text": [
      "Loss=0.013729765079915524 Batch_id=468 Accuracy=99.19: 100%|██████████| 469/469 [00:02<00:00, 162.57it/s] \n"
     ]
    },
    {
     "name": "stdout",
     "output_type": "stream",
     "text": [
      "\n",
      "Test set: Average loss: 0.0205, Accuracy: 9941/10000 (99.41%)\n",
      "\n",
      "Running EPOCH: 11\n"
     ]
    },
    {
     "name": "stderr",
     "output_type": "stream",
     "text": [
      "Loss=0.05354632809758186 Batch_id=468 Accuracy=99.17: 100%|██████████| 469/469 [00:02<00:00, 160.97it/s]  \n"
     ]
    },
    {
     "name": "stdout",
     "output_type": "stream",
     "text": [
      "\n",
      "Test set: Average loss: 0.0190, Accuracy: 9944/10000 (99.44%)\n",
      "\n",
      "Running EPOCH: 12\n"
     ]
    },
    {
     "name": "stderr",
     "output_type": "stream",
     "text": [
      "Loss=0.060401156544685364 Batch_id=468 Accuracy=99.24: 100%|██████████| 469/469 [00:02<00:00, 159.94it/s] \n"
     ]
    },
    {
     "name": "stdout",
     "output_type": "stream",
     "text": [
      "\n",
      "Test set: Average loss: 0.0199, Accuracy: 9938/10000 (99.38%)\n",
      "\n",
      "Running EPOCH: 13\n"
     ]
    },
    {
     "name": "stderr",
     "output_type": "stream",
     "text": [
      "Loss=0.03345354273915291 Batch_id=468 Accuracy=99.23: 100%|██████████| 469/469 [00:02<00:00, 159.69it/s]  \n"
     ]
    },
    {
     "name": "stdout",
     "output_type": "stream",
     "text": [
      "\n",
      "Test set: Average loss: 0.0196, Accuracy: 9943/10000 (99.43%)\n",
      "\n",
      "Running EPOCH: 14\n"
     ]
    },
    {
     "name": "stderr",
     "output_type": "stream",
     "text": [
      "Loss=0.008826501667499542 Batch_id=468 Accuracy=99.24: 100%|██████████| 469/469 [00:02<00:00, 158.82it/s] \n"
     ]
    },
    {
     "name": "stdout",
     "output_type": "stream",
     "text": [
      "\n",
      "Test set: Average loss: 0.0193, Accuracy: 9947/10000 (99.47%)\n",
      "\n",
      "Running EPOCH: 15\n"
     ]
    },
    {
     "name": "stderr",
     "output_type": "stream",
     "text": [
      "Loss=0.06246912479400635 Batch_id=468 Accuracy=99.19: 100%|██████████| 469/469 [00:02<00:00, 160.97it/s]  \n"
     ]
    },
    {
     "name": "stdout",
     "output_type": "stream",
     "text": [
      "\n",
      "Test set: Average loss: 0.0180, Accuracy: 9945/10000 (99.45%)\n",
      "\n"
     ]
    }
   ],
   "source": [
    "EPOCHS=15\n",
    "for i in range(EPOCHS):\n",
    "    print(\"Running EPOCH: \"+str(i+1))\n",
    "    train(model, device, train_dataloader, optimizer=optimizer, epoch=i)\n",
    "    test(model, device, test_dataloader)"
   ]
  },
  {
   "attachments": {},
   "cell_type": "markdown",
   "metadata": {},
   "source": [
    "#### Target:\n",
    "\n",
    "Get a consistent accuracy of 99.4% on the test set\n",
    "\n",
    "#### Result:\n",
    "\n",
    "The accuracy on the test set for the last few epochs is above 99.4%"
   ]
  },
  {
   "attachments": {},
   "cell_type": "markdown",
   "metadata": {},
   "source": [
    "#### Analysis: \n",
    "\n",
    "We added some augmentations in  addition to random rotation of 7degrees, _i.e._ ColorJitter(brightness=0.10, contrast=0.1, saturation=0.10, hue=0.1) following the example.  I have tweaked the LR and the scheduler. I changed the LR to 0.05 and the shceduler with step size 8 and gamma 0.2 i.e. every 8 steps the LR is multipled the gamma (0.2). This follows the thought in step-2 that we should increase step size or decrease gamma (or both) to get a more stable train/test error rates. If we check the training logs, we see that the test accuracy is consistently above 99% and for the last 3 epochs it is consistently above 99.4% (99.43, 99.47, 99.45)"
   ]
  },
  {
   "cell_type": "code",
   "execution_count": null,
   "metadata": {},
   "outputs": [],
   "source": []
  }
 ],
 "metadata": {
  "kernelspec": {
   "display_name": "base",
   "language": "python",
   "name": "python3"
  },
  "language_info": {
   "codemirror_mode": {
    "name": "ipython",
    "version": 3
   },
   "file_extension": ".py",
   "mimetype": "text/x-python",
   "name": "python",
   "nbconvert_exporter": "python",
   "pygments_lexer": "ipython3",
   "version": "3.10.10"
  },
  "orig_nbformat": 4
 },
 "nbformat": 4,
 "nbformat_minor": 2
}
