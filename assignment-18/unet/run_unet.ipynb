{
 "cells": [
  {
   "cell_type": "code",
   "execution_count": null,
   "metadata": {},
   "outputs": [],
   "source": [
    "from model import UNet\n",
    "\n",
    "from lightning import pytorch as pl\n",
    "from torchvision import datasets, transforms\n",
    "import torch"
   ]
  },
  {
   "cell_type": "code",
   "execution_count": null,
   "metadata": {},
   "outputs": [],
   "source": [
    "BATCH_SZ = 64\n",
    "tfm = transforms.Compose([transforms.Resize((256, 256)), transforms.ToTensor()])\n",
    "target_tfm = transforms.Compose([transforms.Resize((256, 256)), transforms.ToTensor()])\n",
    "train_data = datasets.OxfordIIITPet(root=\"~/work/data/\", download=True, split='trainval', target_types='segmentation', transform=tfm, target_transform=target_tfm )\n",
    "val_data = datasets.OxfordIIITPet(root=\"~/work/data/\", download=True, split='test' ,target_types='segmentation',transform=tfm, target_transform=target_tfm)\n",
    "train_dataloader = torch.utils.data.DataLoader(train_data, batch_size=BATCH_SZ, shuffle=True, num_workers=4)\n",
    "val_dataloader = torch.utils.data.DataLoader(val_data, batch_size=BATCH_SZ, shuffle=False, num_workers=4)"
   ]
  },
  {
   "cell_type": "code",
   "execution_count": null,
   "metadata": {},
   "outputs": [],
   "source": []
  },
  {
   "cell_type": "code",
   "execution_count": null,
   "metadata": {},
   "outputs": [],
   "source": [
    "v1 = torch.utils.data.DataLoader(val_data, batch_size=1, shuffle=False, num_workers=4)"
   ]
  },
  {
   "cell_type": "code",
   "execution_count": null,
   "metadata": {},
   "outputs": [],
   "source": [
    "next(iter(v1))"
   ]
  },
  {
   "cell_type": "code",
   "execution_count": null,
   "metadata": {},
   "outputs": [],
   "source": [
    "unet_simple = UNet(3, 512, use_maxpool=True, use_upsample=False, calc_dice_loss=False)"
   ]
  },
  {
   "cell_type": "code",
   "execution_count": null,
   "metadata": {},
   "outputs": [],
   "source": [
    "trainer = pl.Trainer(log_every_n_steps=10, accelerator=\"gpu\", devices=-1, max_epochs=20)"
   ]
  },
  {
   "cell_type": "code",
   "execution_count": null,
   "metadata": {},
   "outputs": [],
   "source": [
    "trainer.fit(model=unet_simple, train_dataloaders=train_dataloader, val_dataloaders=val_dataloader)"
   ]
  },
  {
   "cell_type": "code",
   "execution_count": null,
   "metadata": {},
   "outputs": [],
   "source": []
  }
 ],
 "metadata": {
  "kernelspec": {
   "display_name": "Python 3",
   "language": "python",
   "name": "python3"
  },
  "language_info": {
   "codemirror_mode": {
    "name": "ipython",
    "version": 3
   },
   "file_extension": ".py",
   "mimetype": "text/x-python",
   "name": "python",
   "nbconvert_exporter": "python",
   "pygments_lexer": "ipython3",
   "version": "3.10.12"
  },
  "orig_nbformat": 4
 },
 "nbformat": 4,
 "nbformat_minor": 2
}
