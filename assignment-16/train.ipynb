{
 "cells": [
  {
   "cell_type": "code",
   "execution_count": 1,
   "metadata": {},
   "outputs": [
    {
     "name": "stderr",
     "output_type": "stream",
     "text": [
      "/usr/lib/python3/dist-packages/pkg_resources/__init__.py:116: PkgResourcesDeprecationWarning: 1.1build1 is an invalid version and will not be supported in a future release\n",
      "  warnings.warn(\n"
     ]
    },
    {
     "name": "stdout",
     "output_type": "stream",
     "text": [
      "Using device: cuda\n",
      "Max length of source sentence: 149\n",
      "Max length of target sentence: 159\n",
      "Building transformer... \n",
      "InputEmbeddings\n",
      "building positional encoding\n",
      "building encoder_blocks\n",
      "building decoder_blocks\n",
      "Build Encoder and Decoder\n",
      "Build projection_layer\n",
      "Build transformer\n"
     ]
    },
    {
     "name": "stderr",
     "output_type": "stream",
     "text": [
      "Processing Epoch 00: 100%|██████████| 3321/3321 [03:02<00:00, 18.17it/s, loss=5.239]\n",
      "/bin/sh: 1: ssty: not found\n"
     ]
    },
    {
     "name": "stdout",
     "output_type": "stream",
     "text": [
      "--------------------------------------------------------------------------------\n",
      "    SOURCE: Pencroft, Spilett, and Herbert, forming more or less probable conjectures, dined rapidly on board the \"Bonadventure\" so as to be able to continue their excursion until nightfall.\n",
      "    TARGET: Pencroff, Gédéon Spilett et Harbert, formant des hypothèses plus ou moins plausibles, dînèrent rapidement à bord du Bonadventure, de manière à reprendre leur excursion et à la continuer jusqu'à la nuit.\n",
      " PREDICTED: Pencroff , Pencroff , et , se , qui , qui se , qui se à la porte de la porte , qui se à la porte de la porte .\n",
      "--------------------------------------------------------------------------------\n",
      "    SOURCE: La pauvre duchesse ne connaissait pas tous ses malheurs.\n",
      "    TARGET: The poor Duchessa did not know the full tale of her troubles.\n",
      " PREDICTED: The Duchessa was to the Duchessa ' s ' s ' s had been .\n",
      "--------------------------------------------------------------------------------\n"
     ]
    },
    {
     "name": "stderr",
     "output_type": "stream",
     "text": [
      "Processing Epoch 01: 100%|██████████| 3321/3321 [03:02<00:00, 18.15it/s, loss=3.507]\n",
      "/bin/sh: 1: ssty: not found\n"
     ]
    },
    {
     "name": "stdout",
     "output_type": "stream",
     "text": [
      "--------------------------------------------------------------------------------\n",
      "    SOURCE: La duchesse pâlit extrêmement ; elle eut à peine le courage de dire :\n",
      "    TARGET: The Duchessa turned extremely pale; she had barely the strength to say:\n",
      " PREDICTED: The Duchessa was a moment ; she had made the courage to say :\n",
      "--------------------------------------------------------------------------------\n",
      "    SOURCE: She was only repeating what for the last week had been said in her heart by the counsel of the opposite party to love.\n",
      "    TARGET: Elle ne faisait que répéter ce que depuis huit jours disait dans son cœur l’avocat du parti contraire à l’amour.\n",
      " PREDICTED: Elle était seulement ce qu ’ on avait dit à la dernière semaine de son coeur par le regard de l ’ amour de l ’ amour .\n",
      "--------------------------------------------------------------------------------\n"
     ]
    },
    {
     "name": "stderr",
     "output_type": "stream",
     "text": [
      "Processing Epoch 02: 100%|██████████| 3321/3321 [03:04<00:00, 18.05it/s, loss=4.199]\n",
      "/bin/sh: 1: ssty: not found\n"
     ]
    },
    {
     "name": "stdout",
     "output_type": "stream",
     "text": [
      "--------------------------------------------------------------------------------\n",
      "    SOURCE: In the evening, when Julien appeared in his blue coat, there was never any talk of business.\n",
      "    TARGET: Le soir, lorsque Julien paraissait en habit bleu, il n’était jamais question d’affaires.\n",
      " PREDICTED: Le soir , quand Julien paraissait dans son habit bleu , il n ’ y avait jamais de parler .\n",
      "--------------------------------------------------------------------------------\n",
      "    SOURCE: – Par pusillanimité, et de peur d’une scène, il la tiendra.\n",
      "    TARGET: \"From cowardice and fear of a scene he will keep it.\"\n",
      " PREDICTED: \" Fortunately , and fear of a scene , he was the .\n",
      "--------------------------------------------------------------------------------\n"
     ]
    },
    {
     "name": "stderr",
     "output_type": "stream",
     "text": [
      "Processing Epoch 03: 100%|██████████| 3321/3321 [03:09<00:00, 17.49it/s, loss=3.315]\n",
      "/bin/sh: 1: ssty: not found\n"
     ]
    },
    {
     "name": "stdout",
     "output_type": "stream",
     "text": [
      "--------------------------------------------------------------------------------\n",
      "    SOURCE: Shall I try the experiment?'\n",
      "    TARGET: Voulez-vous que j’essaie ? »\n",
      " PREDICTED: Voulez - vous que j ’ essayerai de l ’ essai ?\n",
      "--------------------------------------------------------------------------------\n",
      "    SOURCE: The harangue was formidable.\n",
      "    TARGET: La harangue était formidable.\n",
      " PREDICTED: La quille était formidable .\n",
      "--------------------------------------------------------------------------------\n"
     ]
    },
    {
     "name": "stderr",
     "output_type": "stream",
     "text": [
      "Processing Epoch 04: 100%|██████████| 3321/3321 [03:08<00:00, 17.64it/s, loss=2.945]\n",
      "/bin/sh: 1: ssty: not found\n"
     ]
    },
    {
     "name": "stdout",
     "output_type": "stream",
     "text": [
      "--------------------------------------------------------------------------------\n",
      "    SOURCE: The dead animals were left lying in the passage, between kitchen and refectory.\n",
      "    TARGET: Les animaux morts furent déposés dans le passage, entre la cuisine et le réfectoire.\n",
      " PREDICTED: Les animaux morts étaient restés dans le couloir , entre la cuisine et le réfectoire .\n",
      "--------------------------------------------------------------------------------\n",
      "    SOURCE: Marguerite was waiting for me at the window.\n",
      "    TARGET: Marguerite m'attendait à la fenêtre.\n",
      " PREDICTED: Marguerite m ' attendait à la fenêtre .\n",
      "--------------------------------------------------------------------------------\n"
     ]
    },
    {
     "name": "stderr",
     "output_type": "stream",
     "text": [
      "Processing Epoch 05: 100%|██████████| 3321/3321 [03:05<00:00, 17.89it/s, loss=2.470]\n",
      "/bin/sh: 1: ssty: not found\n"
     ]
    },
    {
     "name": "stdout",
     "output_type": "stream",
     "text": [
      "--------------------------------------------------------------------------------\n",
      "    SOURCE: They asked a thousand livres for him.\n",
      "    TARGET: On le lui fit mille livres.\n",
      " PREDICTED: Ils lui demandaient mille livres .\n",
      "--------------------------------------------------------------------------------\n",
      "    SOURCE: A deep silence settled over the assembly, accompanied by stifled laughter at the preposterous names and all the bourgeois designations which each of these personages transmitted with imperturbable gravity to the usher, who then tossed names and titles pell−mell and mutilated to the crowd below.\n",
      "    TARGET: Il se fit dans l’assemblée un grand silence accompagné de rires étouffés pour écouter tous les noms saugrenus et toutes les qualifications bourgeoises que chacun de ces personnages transmettait imperturbablement à l’huissier, qui jetait ensuite noms et qualités pêle-mêle et tout estropiés à travers la foule.\n",
      " PREDICTED: Un grand silence s ’ établit sur la séance , suivi d ’ un rire étouffé , de rire les noms les bourgeois que chaque de ces personnages se avec une gravité croissante à l ’ huissier , qui et pêle - mêle et au fond de la foule .\n",
      "--------------------------------------------------------------------------------\n"
     ]
    },
    {
     "name": "stderr",
     "output_type": "stream",
     "text": [
      "Processing Epoch 06: 100%|██████████| 3321/3321 [03:05<00:00, 17.87it/s, loss=3.170]\n",
      "/bin/sh: 1: ssty: not found\n"
     ]
    },
    {
     "name": "stdout",
     "output_type": "stream",
     "text": [
      "--------------------------------------------------------------------------------\n",
      "    SOURCE: I believe few people have thought much upon the strange multitude of little things necessary in the providing, producing, curing, dressing, making, and finishing this one article of bread.\n",
      "    TARGET: N'est-ce pas chose étonnante, et à laquelle peu de personnes réfléchissent, l'énorme multitude d'objets nécessaires pour entreprendre, produire, soigner, préparer, faire et achever _une parcelle de pain_.\n",
      " PREDICTED: Je crois que quelques gens ont réfléchi sur l ' étrange multitude de petites choses nécessaires pour la , , , faisant la toilette , et ce morceau de pain .\n",
      "--------------------------------------------------------------------------------\n",
      "    SOURCE: \"The day belongs to every one, why do they give me only night?\"\n",
      "    TARGET: Le jour est à tout le monde. Pourquoi ne me donne-t-on que la nuit ?\n",
      " PREDICTED: -- Le jour appartient à tous les deux , pourquoi me donne - elles seulement la nuit ?\n",
      "--------------------------------------------------------------------------------\n"
     ]
    },
    {
     "name": "stderr",
     "output_type": "stream",
     "text": [
      "Processing Epoch 07: 100%|██████████| 3321/3321 [02:59<00:00, 18.53it/s, loss=2.815]\n",
      "/bin/sh: 1: ssty: not found\n"
     ]
    },
    {
     "name": "stdout",
     "output_type": "stream",
     "text": [
      "--------------------------------------------------------------------------------\n",
      "    SOURCE: She was talking with great animation with the stranger.\n",
      "    TARGET: Elle causait très vivement avec l'inconnu.\n",
      " PREDICTED: Elle causait avec beaucoup d ’ animation .\n",
      "--------------------------------------------------------------------------------\n",
      "    SOURCE: « Dépechons, dépechons, murmurait-il de temps a autre.\n",
      "    TARGET: \"Hurry on! hurry on!\" he gasped from time to time.\n",
      " PREDICTED: \" , , ' t see another .\n",
      "--------------------------------------------------------------------------------\n"
     ]
    },
    {
     "name": "stderr",
     "output_type": "stream",
     "text": [
      "Processing Epoch 08: 100%|██████████| 3321/3321 [03:12<00:00, 17.22it/s, loss=3.158]\n",
      "/bin/sh: 1: ssty: not found\n"
     ]
    },
    {
     "name": "stdout",
     "output_type": "stream",
     "text": [
      "--------------------------------------------------------------------------------\n",
      "    SOURCE: 'I've a notion,' he said to me at last - 'I've a notion that it mayn't be as far as we think . . . Frantz struck off my plan a good bit of the road I had marked.\n",
      "    TARGET: – J’ai l’idée, me dit-il enfin, j’ai l’idée que ce n’est peut-être pas aussi loin que nous l’imaginons… Frantz a supprimé sur mon plan toute une portion de la route que j’avais indiquée.\n",
      " PREDICTED: – J ’ ai une opinion , me dit - il enfin , j ’ ai une opinion qu ’ elle ne s ’ est pas portée à la tête de ce que nous pensons … – Frantz a frappé de bon chemin que j ’ avais marqué .\n",
      "--------------------------------------------------------------------------------\n",
      "    SOURCE: The seventh round, however, showed the reserve strength of the hardy old fighter, and lengthened the faces of those layers of odds who had imagined that the fight was practically over, and that a few finishing rounds would have given the smith his coup-de-grace.\n",
      "    TARGET: Toutefois, le septième round fit apparaître la réserve de force qu'il y avait chez le vieux et brave boxeur et s'allonger les figures de ces faiseurs de paris qui s'étaient figuré qu'en somme la lutte était terminée et que quelques rounds suffiraient pour donner au forgeron le coup de grâce.\n",
      " PREDICTED: La septième round , cependant , montrait la réserve de la force du vieux boxeur , et , s ' allongea les visages de ces couches de pierres qui s ' étaient trouvées à peu près , et qu ' il y avait quelques rounds de plus fort , et qu ' un coup de talon eût donné à son museau de forgeron .\n",
      "--------------------------------------------------------------------------------\n"
     ]
    },
    {
     "name": "stderr",
     "output_type": "stream",
     "text": [
      "Processing Epoch 09: 100%|██████████| 3321/3321 [03:06<00:00, 17.80it/s, loss=2.855]\n",
      "/bin/sh: 1: ssty: not found\n"
     ]
    },
    {
     "name": "stdout",
     "output_type": "stream",
     "text": [
      "--------------------------------------------------------------------------------\n",
      "    SOURCE: On the walls some old photographs, yellowish groups of schoolboys, depicted my father - after one had taken some time to recognise him in his uniform - amidst his Training College friends ...\n",
      "    TARGET: Aux murs, de vieilles photographies, de vieux groupes scolaires jaunis montraient mon père – on mettait longtemps à le reconnaître en uniforme – au milieu de ses camarades d’École Normale…\n",
      " PREDICTED: Sur les murs , une vieille crise jaunâtre et d ’ écoliers , ma père , après avoir eu le temps de le reconnaître , dans ses amies - de l ’ école .\n",
      "--------------------------------------------------------------------------------\n",
      "    SOURCE: There had been a collision, but it was comparatively mild.\n",
      "    TARGET: Un choc eut lieu, mais relativement léger.\n",
      " PREDICTED: Il y avait un choc , mais il était relativement doux .\n",
      "--------------------------------------------------------------------------------\n"
     ]
    },
    {
     "name": "stderr",
     "output_type": "stream",
     "text": [
      "Processing Epoch 10: 100%|██████████| 3321/3321 [03:07<00:00, 17.70it/s, loss=2.262]\n",
      "/bin/sh: 1: ssty: not found\n"
     ]
    },
    {
     "name": "stdout",
     "output_type": "stream",
     "text": [
      "--------------------------------------------------------------------------------\n",
      "    SOURCE: Soon a sort of cylindrical box, in shape like a pepper-pot, with a pointed roof, rose on the spot chosen.\n",
      "    TARGET: Aussi une sorte de guérite cylindrique, une vraie poivrière, coiffée d'un toit aigu, s'éleva-t-elle bientôt à l'endroit désigné.\n",
      " PREDICTED: Bientôt une sorte de boîte à tronc cylindrique , en forme comme un batelier , se sur le point choisi .\n",
      "--------------------------------------------------------------------------------\n",
      "    SOURCE: They were of supernatural dimensions; the smallest of them would have crunched our raft, crew and all, at one snap of its huge jaws.\n",
      "    TARGET: Ils ont des dimensions surnaturelles, et le moindre d'entre eux briserait le radeau d'un coup de dent.\n",
      " PREDICTED: C ' étaient de dimensions surnaturels , dont le moindre qui eût notre radeau , tout , ses équipage , et tous , à la légère gueule de ses gros mâchoires .\n",
      "--------------------------------------------------------------------------------\n"
     ]
    },
    {
     "name": "stderr",
     "output_type": "stream",
     "text": [
      "Processing Epoch 11: 100%|██████████| 3321/3321 [03:03<00:00, 18.11it/s, loss=2.337]\n",
      "/bin/sh: 1: ssty: not found\n"
     ]
    },
    {
     "name": "stdout",
     "output_type": "stream",
     "text": [
      "--------------------------------------------------------------------------------\n",
      "    SOURCE: Here he comes! I will leave you, Diana.\"\n",
      "    TARGET: Le voilà qui vient; je vais vous quitter, Diana.»\n",
      " PREDICTED: Tenez , je vous quitte , Diana .\n",
      "--------------------------------------------------------------------------------\n",
      "    SOURCE: \"Ta, ta, ta!\" cried de Lapp.\n",
      "    TARGET: Ta! s'écria de Lapp, c'est un joli animal, bien doux.\n",
      " PREDICTED: -- Ta ! ta ! s ' écria de Lapp .\n",
      "--------------------------------------------------------------------------------\n"
     ]
    },
    {
     "name": "stderr",
     "output_type": "stream",
     "text": [
      "Processing Epoch 12: 100%|██████████| 3321/3321 [03:11<00:00, 17.37it/s, loss=2.244]\n",
      "/bin/sh: 1: ssty: not found\n"
     ]
    },
    {
     "name": "stdout",
     "output_type": "stream",
     "text": [
      "--------------------------------------------------------------------------------\n",
      "    SOURCE: The locomotive, slackening its speed, tried to clear the way with its cow-catcher; but the mass of animals was too great.\n",
      "    TARGET: La machine, après avoir modéré sa vitesse, essaya d'engager son éperon dans le flanc de l'immense colonne, mais elle dut s'arrêter devant l'impénétrable masse.\n",
      " PREDICTED: La locomotive , roulant sa vitesse , essayait de réduire son chemin avec ce « vache », mais l ' amas d ' animaux était trop grande .\n",
      "--------------------------------------------------------------------------------\n",
      "    SOURCE: This fossil body was not the only one in this immense catacomb.\n",
      "    TARGET: Ce corps fossilisé n'était pas le seul de l'immense ossuaire.\n",
      " PREDICTED: Ce cadavre fossile n ' était pas celui de cet immense .\n",
      "--------------------------------------------------------------------------------\n"
     ]
    },
    {
     "name": "stderr",
     "output_type": "stream",
     "text": [
      "Processing Epoch 13: 100%|██████████| 3321/3321 [02:59<00:00, 18.53it/s, loss=2.350]\n",
      "/bin/sh: 1: ssty: not found\n"
     ]
    },
    {
     "name": "stdout",
     "output_type": "stream",
     "text": [
      "--------------------------------------------------------------------------------\n",
      "    SOURCE: The openings of four galleries yawned here.\n",
      "    TARGET: Quatre galeries s'ouvraient la, béantes.\n",
      " PREDICTED: Le trou de quatre galeries ouvre la .\n",
      "--------------------------------------------------------------------------------\n",
      "    SOURCE: \"No, no, Jack!\n",
      "    TARGET: -- Non, non, Jock.\n",
      " PREDICTED: -- Non , Jock , non , je crois .\n",
      "--------------------------------------------------------------------------------\n"
     ]
    },
    {
     "name": "stderr",
     "output_type": "stream",
     "text": [
      "Processing Epoch 14: 100%|██████████| 3321/3321 [03:12<00:00, 17.29it/s, loss=2.114]\n",
      "/bin/sh: 1: ssty: not found\n"
     ]
    },
    {
     "name": "stdout",
     "output_type": "stream",
     "text": [
      "--------------------------------------------------------------------------------\n",
      "    SOURCE: We were hardly thinking of that.\n",
      "    TARGET: Nous ne pensions guère à lui!\n",
      " PREDICTED: Nous pensions à ce sujet .\n",
      "--------------------------------------------------------------------------------\n",
      "    SOURCE: For my part, I am determined never to speak of it again to anybody. I told my sister Phillips so the other day.\n",
      "    TARGET: Quant a moi, je suis bien décidée a n’en plus parler a personne ; je le disais encore a votre tante Philips l’autre jour.\n",
      " PREDICTED: Pour mon compte , je suis décidé à ne plus en parler a personne ; j ’ en ai dit a la belle - Philips si elle avait encore l ’ autre jour .\n",
      "--------------------------------------------------------------------------------\n"
     ]
    },
    {
     "name": "stderr",
     "output_type": "stream",
     "text": [
      "Processing Epoch 15: 100%|██████████| 3321/3321 [03:04<00:00, 17.96it/s, loss=2.472]\n",
      "/bin/sh: 1: ssty: not found\n"
     ]
    },
    {
     "name": "stdout",
     "output_type": "stream",
     "text": [
      "--------------------------------------------------------------------------------\n",
      "    SOURCE: \"When that fellow is outside, and feels the fresh air, he will be off as fast as his legs can carry him!\"\n",
      "    TARGET: Quand ce gaillard-là aura l'espace devant lui et sentira le grand air, il filera à toutes jambes!\n",
      " PREDICTED: Quand cet homme est en dehors , et qui sent le grand air , il à ses jambes , il peut l ' emporter !\n",
      "--------------------------------------------------------------------------------\n",
      "    SOURCE: 'Quarrel or no quarrel, I can take the foundlings away from him; but,' he continued, furiously, 'I want those letters this instant; where are they?'\n",
      "    TARGET: – Querelle ou non, je puis lui ôter les enfants trouvés ; mais, continua-t-il avec fureur, je veux ces lettres à l’instant ; où sont-elles ?\n",
      " PREDICTED: ou non de querelle , je puis les enfants trouvés en loin ; mais , continua - t - il d ’ un ton furieux , j ’ ai besoin de ces lettres ; où sont - ils ?\n",
      "--------------------------------------------------------------------------------\n"
     ]
    },
    {
     "name": "stderr",
     "output_type": "stream",
     "text": [
      "Processing Epoch 16: 100%|██████████| 3321/3321 [03:00<00:00, 18.35it/s, loss=2.071]\n",
      "/bin/sh: 1: ssty: not found\n"
     ]
    },
    {
     "name": "stdout",
     "output_type": "stream",
     "text": [
      "--------------------------------------------------------------------------------\n",
      "    SOURCE: It is a serious matter.\n",
      "    TARGET: C’est une affaire sérieuse.\n",
      " PREDICTED: Cela est grave .\n",
      "--------------------------------------------------------------------------------\n",
      "    SOURCE: By looking up in a certain way from under the brim of his hat, he caught a glimpse of Mathilde's form without seeing her eyes.\n",
      "    TARGET: En regardant d’une certaine façon sous le bord de son chapeau, il apercevait la taille de Mathilde sans voir ses yeux.\n",
      " PREDICTED: En regardant bien loin sous le chapeau , il aperçut la forme de Mathilde , sans voir ses yeux .\n",
      "--------------------------------------------------------------------------------\n"
     ]
    },
    {
     "name": "stderr",
     "output_type": "stream",
     "text": [
      "Processing Epoch 17: 100%|██████████| 3321/3321 [03:01<00:00, 18.30it/s, loss=1.928]\n",
      "/bin/sh: 1: ssty: not found\n"
     ]
    },
    {
     "name": "stdout",
     "output_type": "stream",
     "text": [
      "--------------------------------------------------------------------------------\n",
      "    SOURCE: Passepartout shook it, but with no perceptible effect; for neither shaking nor maledictions could prevail upon it to change its mind.\n",
      "    TARGET: L'état de la mer se modifia dans la journée du 4 novembre. Le vent sauta de deux quarts dans le sud et redevint favorable.\n",
      " PREDICTED: Passepartout la secouait , mais il n ' y avait ni balancement . Il ne pouvaient et s ' en .\n",
      "--------------------------------------------------------------------------------\n",
      "    SOURCE: \"I do not like to disturb those who pray, madame,\" said Felton, seriously; \"do not disturb yourself on my account, I beseech you.\"\n",
      "    TARGET: «Je n'aime point à déranger ceux qui prient, madame, dit gravement Felton; ne vous dérangez donc pas pour moi, je vous en conjure.\n",
      " PREDICTED: -- Je ne veux pas déranger ceux qui , madame , dit gravement Felton ; ne te dérange pas par mon compte , je t ' en supplie .\n",
      "--------------------------------------------------------------------------------\n"
     ]
    },
    {
     "name": "stderr",
     "output_type": "stream",
     "text": [
      "Processing Epoch 18: 100%|██████████| 3321/3321 [03:05<00:00, 17.94it/s, loss=1.921]\n",
      "/bin/sh: 1: ssty: not found\n"
     ]
    },
    {
     "name": "stdout",
     "output_type": "stream",
     "text": [
      "--------------------------------------------------------------------------------\n",
      "    SOURCE: After this event, and during all the time that the colonists, detained by Herbert's illness, remained in the corral, the pirates did not leave their cavern, and even after they had pillaged the plateau of Prospect Heights, they did not think it prudent to abandon it.\n",
      "    TARGET: À la suite de cet événement, et pendant tout le temps que les colons, retenus par la maladie d'Harbert, demeurèrent au corral, les pirates ne quittèrent pas leur caverne, et même, après avoir pillé le plateau de Grande-vue, ils ne crurent pas prudent de l'abandonner.\n",
      " PREDICTED: Après cet événement , et pendant tout le temps que les colons , retenus par la maladie d ' Harbert , restèrent dans le corral , les pirates ne laissèrent pas leur caverne , et même après qu ' ils eussent pu le plateau de Grande - vue , ils ne purent pas le laisser croire prudent de l ' abandonner .\n",
      "--------------------------------------------------------------------------------\n",
      "    SOURCE: Air tanks, abundantly charged, were placed on our backs, but the electric lamps were not in readiness.\n",
      "    TARGET: On plaça sur notre dos les réservoirs abondamment chargés d'air, mais les lampes électriques n'étaient pas préparées.\n",
      " PREDICTED: Les réservoirs , abondamment chargés , furent placés sur notre dos , mais les lampes électriques ne passaient pas .\n",
      "--------------------------------------------------------------------------------\n"
     ]
    },
    {
     "name": "stderr",
     "output_type": "stream",
     "text": [
      "Processing Epoch 19: 100%|██████████| 3321/3321 [02:59<00:00, 18.52it/s, loss=1.866]\n",
      "/bin/sh: 1: ssty: not found\n"
     ]
    },
    {
     "name": "stdout",
     "output_type": "stream",
     "text": [
      "--------------------------------------------------------------------------------\n",
      "    SOURCE: I do not believe in Astrology.\"\n",
      "    TARGET: Je ne crois pas à l’astrologie.\n",
      " PREDICTED: Je ne crois pas en .\n",
      "--------------------------------------------------------------------------------\n",
      "    SOURCE: \"What is the basis of them all?\n",
      "    TARGET: Sur quoi reposent-elles?\n",
      " PREDICTED: -- À quoi les base ?\n",
      "--------------------------------------------------------------------------------\n"
     ]
    },
    {
     "name": "stderr",
     "output_type": "stream",
     "text": [
      "Processing Epoch 20: 100%|██████████| 3321/3321 [03:04<00:00, 17.96it/s, loss=1.863]\n",
      "/bin/sh: 1: ssty: not found\n"
     ]
    },
    {
     "name": "stdout",
     "output_type": "stream",
     "text": [
      "--------------------------------------------------------------------------------\n",
      "    SOURCE: Now turn to this side; here are the tombs of the Ambroise.\n",
      "    TARGET: Maintenant, tournez-vous de ce côté: voici les tombeaux d’Amboise.\n",
      " PREDICTED: À cette heure , à côté , voilà les tombeaux des occasions .\n",
      "--------------------------------------------------------------------------------\n",
      "    SOURCE: Assuming the same work would be accomplished every twelve hours, it would still take five nights and four days to see the undertaking through to completion.\n",
      "    TARGET: En admettant que le même travail fût accompli par douze heures, il fallait encore cinq nuits et quatre jours pour mener à bonne fin cette entreprise.\n",
      " PREDICTED: Des le pareil travail lui seraient , douze heures , il fallait encore cinq nuits et quatre jours pour observer l ' entreprise qu ' il aurait à son achèvement .\n",
      "--------------------------------------------------------------------------------\n"
     ]
    },
    {
     "name": "stderr",
     "output_type": "stream",
     "text": [
      "Processing Epoch 21: 100%|██████████| 3321/3321 [03:12<00:00, 17.25it/s, loss=1.714]\n",
      "/bin/sh: 1: ssty: not found\n"
     ]
    },
    {
     "name": "stdout",
     "output_type": "stream",
     "text": [
      "--------------------------------------------------------------------------------\n",
      "    SOURCE: \"To be sure they may; and this very day we will write the letters,\" said Aramis. \"Give the lackeys money, and they will start.\"\n",
      "    TARGET: -- Sans doute, dit Aramis, et dès aujourd'hui nous écrivons les lettres, nous leur donnons de l'argent, et ils partent.\n",
      " PREDICTED: -- Il en est certain , et ce jour - là nous les lettres , dit Aramis ; les laquais et ils .\n",
      "--------------------------------------------------------------------------------\n",
      "    SOURCE: And yet the document was clear enough; there was a castaway, and this castaway should have been on the watch.\n",
      "    TARGET: Et pourtant le document était formel: il y avait un naufragé, et ce naufragé aurait dû être aux aguets!\n",
      " PREDICTED: Et cependant , le document était clair , il y avait un naufragé , et ce naufragé eût été dans le guet .\n",
      "--------------------------------------------------------------------------------\n"
     ]
    },
    {
     "name": "stderr",
     "output_type": "stream",
     "text": [
      "Processing Epoch 22: 100%|██████████| 3321/3321 [03:05<00:00, 17.86it/s, loss=1.761]\n",
      "/bin/sh: 1: ssty: not found\n"
     ]
    },
    {
     "name": "stdout",
     "output_type": "stream",
     "text": [
      "--------------------------------------------------------------------------------\n",
      "    SOURCE: Domestic mediocrity drove her to lewd fancies, marriage tenderness to adulterous desires.\n",
      "    TARGET: La médiocrité domestique la poussait à des fantaisies luxueuses, la tendresse matrimoniale en des désirs adultères.\n",
      " PREDICTED: La médiocrité la poussait aux caprices de caprices , mariage eut pitié de s ’ .\n",
      "--------------------------------------------------------------------------------\n",
      "    SOURCE: My happiness will be worthy of myself.\n",
      "    TARGET: Mon bonheur sera digne de moi.\n",
      " PREDICTED: Mon bonheur sera digne de moi .\n",
      "--------------------------------------------------------------------------------\n"
     ]
    },
    {
     "name": "stderr",
     "output_type": "stream",
     "text": [
      "Processing Epoch 23: 100%|██████████| 3321/3321 [03:12<00:00, 17.23it/s, loss=1.777]\n",
      "/bin/sh: 1: ssty: not found\n"
     ]
    },
    {
     "name": "stdout",
     "output_type": "stream",
     "text": [
      "--------------------------------------------------------------------------------\n",
      "    SOURCE: I shook my head: I could not see how poor people had the means of being kind; and then to learn to speak like them, to adopt their manners, to be uneducated, to grow up like one of the poor women I saw sometimes nursing their children or washing their clothes at the cottage doors of the village of Gateshead: no, I was not heroic enough to purchase liberty at the price of caste.\n",
      "    TARGET: Je secouai la tête; je ne pouvais pas comprendre comment des pauvres auraient été bons; et puis apprendre à parler comme eux, adopter leurs manières, ne point recevoir d'éducation, grandir comme ces malheureuses femmes que je voyais quelquefois nourrir leurs enfants ou laver leurs vêtements à la porte des fermes du village, non, je n'étais pas assez héroïque pour accepter l'abjection en échange de la liberté.\n",
      " PREDICTED: Je secouai la tête ; je ne pouvais voir comment les pauvres gens avaient le moyen d ' être bon ; puis de m ' apprendre à parler comme eux , de prendre leurs manières , de se faire jour comme une des pauvres femmes que je voyais quelquefois les enfants ou les femmes du village ; je n ' étais point assez héroïque pour acheter le prix de mon chemin de revient du chemin de caste .\n",
      "--------------------------------------------------------------------------------\n",
      "    SOURCE: To think that they had been on the point of hanging the bailiff's sergeant!\n",
      "    TARGET: Penser qu’on avait failli pendre les sergents du bailli !\n",
      " PREDICTED: Dire qu ' on avait été sur le point de suspendu au sergent du bailli !\n",
      "--------------------------------------------------------------------------------\n"
     ]
    },
    {
     "name": "stderr",
     "output_type": "stream",
     "text": [
      "Processing Epoch 24: 100%|██████████| 3321/3321 [03:07<00:00, 17.71it/s, loss=1.596]\n",
      "/bin/sh: 1: ssty: not found\n"
     ]
    },
    {
     "name": "stdout",
     "output_type": "stream",
     "text": [
      "--------------------------------------------------------------------------------\n",
      "    SOURCE: \"Why! how are you going to manage that, captain?\" asked Pencroft.\n",
      "    TARGET: Comment allez-vous vous y prendre, Monsieur Cyrus? demanda Pencroff.\n",
      " PREDICTED: -- Comment ? mais comment allez - vous faire , Monsieur Cyrus ? demanda Pencroff .\n",
      "--------------------------------------------------------------------------------\n",
      "    SOURCE: – Pas mal pour un conscrit ! dit le maréchal des logis.\n",
      "    TARGET: \"Not bad for a conscript!\" said the serjeant.\n",
      " PREDICTED: \" Nothing for a fool !\" said the serjeant .\n",
      "--------------------------------------------------------------------------------\n"
     ]
    },
    {
     "name": "stderr",
     "output_type": "stream",
     "text": [
      "Processing Epoch 25: 100%|██████████| 3321/3321 [03:08<00:00, 17.66it/s, loss=1.670]\n",
      "/bin/sh: 1: ssty: not found\n"
     ]
    },
    {
     "name": "stdout",
     "output_type": "stream",
     "text": [
      "--------------------------------------------------------------------------------\n",
      "    SOURCE: That was the supreme peril, the great terror, which made the teeth of the middle class chatter when they thought of a possible defection of the troops.\n",
      "    TARGET: C'était le péril supreme, la grande épouvante, dont les dents des bourgeois claquaient, quand ils pensaient a une défection possible des troupes.\n",
      " PREDICTED: C ’ était le suprême péril , la grande terreur qui faisaient les dents de la bourgeoisie , quand ils crurent a une défection possible des troupes possible .\n",
      "--------------------------------------------------------------------------------\n",
      "    SOURCE: Good-bye, my lover !\n",
      "    TARGET: Adieu, mes amours !\n",
      " PREDICTED: Adieu , mon amant !\n",
      "--------------------------------------------------------------------------------\n"
     ]
    },
    {
     "name": "stderr",
     "output_type": "stream",
     "text": [
      "Processing Epoch 26:  43%|████▎     | 1429/3321 [01:24<01:51, 16.98it/s, loss=1.561]\n"
     ]
    },
    {
     "ename": "KeyboardInterrupt",
     "evalue": "",
     "output_type": "error",
     "traceback": [
      "\u001b[0;31m---------------------------------------------------------------------------\u001b[0m",
      "\u001b[0;31mKeyboardInterrupt\u001b[0m                         Traceback (most recent call last)",
      "Cell \u001b[0;32mIn[1], line 12\u001b[0m\n\u001b[1;32m      8\u001b[0m torch\u001b[39m.\u001b[39mcuda\u001b[39m.\u001b[39mamp\u001b[39m.\u001b[39mautocast_mode\u001b[39m.\u001b[39mautocast(enabled\u001b[39m=\u001b[39m\u001b[39mTrue\u001b[39;00m)\n\u001b[1;32m     10\u001b[0m \u001b[39mfrom\u001b[39;00m \u001b[39mtrain\u001b[39;00m \u001b[39mimport\u001b[39;00m train_model\n\u001b[0;32m---> 12\u001b[0m train_model(cfg)\n",
      "File \u001b[0;32m~/work/ERA-V1-assignments/assignment-16/train.py:295\u001b[0m, in \u001b[0;36mtrain_model\u001b[0;34m(config)\u001b[0m\n\u001b[1;32m    293\u001b[0m scaler\u001b[39m.\u001b[39mstep(optimizer)\n\u001b[1;32m    294\u001b[0m scaler\u001b[39m.\u001b[39mupdate()\n\u001b[0;32m--> 295\u001b[0m skip_lr_scheduler \u001b[39m=\u001b[39m (scale \u001b[39m>\u001b[39m scaler\u001b[39m.\u001b[39;49mget_scale())\n\u001b[1;32m    296\u001b[0m \u001b[39mif\u001b[39;00m \u001b[39mnot\u001b[39;00m skip_lr_scheduler:\n\u001b[1;32m    297\u001b[0m     scheduler\u001b[39m.\u001b[39mstep()\n",
      "File \u001b[0;32m~/.local/lib/python3.10/site-packages/torch/cuda/amp/grad_scaler.py:456\u001b[0m, in \u001b[0;36mGradScaler.get_scale\u001b[0;34m(self)\u001b[0m\n\u001b[1;32m    449\u001b[0m \u001b[39m\u001b[39m\u001b[39m\"\"\"\u001b[39;00m\n\u001b[1;32m    450\u001b[0m \u001b[39mReturns a Python float containing the current scale, or 1.0 if scaling is disabled.\u001b[39;00m\n\u001b[1;32m    451\u001b[0m \n\u001b[1;32m    452\u001b[0m \u001b[39m.. warning::\u001b[39;00m\n\u001b[1;32m    453\u001b[0m \u001b[39m    :meth:`get_scale` incurs a CPU-GPU sync.\u001b[39;00m\n\u001b[1;32m    454\u001b[0m \u001b[39m\"\"\"\u001b[39;00m\n\u001b[1;32m    455\u001b[0m \u001b[39mif\u001b[39;00m \u001b[39mself\u001b[39m\u001b[39m.\u001b[39m_enabled:\n\u001b[0;32m--> 456\u001b[0m     \u001b[39mreturn\u001b[39;00m \u001b[39mself\u001b[39m\u001b[39m.\u001b[39m_init_scale \u001b[39mif\u001b[39;00m \u001b[39mself\u001b[39m\u001b[39m.\u001b[39m_scale \u001b[39mis\u001b[39;00m \u001b[39mNone\u001b[39;00m \u001b[39melse\u001b[39;00m \u001b[39mself\u001b[39;49m\u001b[39m.\u001b[39;49m_get_scale_async()\u001b[39m.\u001b[39;49mitem()\n\u001b[1;32m    457\u001b[0m \u001b[39melse\u001b[39;00m:\n\u001b[1;32m    458\u001b[0m     \u001b[39mreturn\u001b[39;00m \u001b[39m1.0\u001b[39m\n",
      "\u001b[0;31mKeyboardInterrupt\u001b[0m: "
     ]
    }
   ],
   "source": [
    "from config import get_config\n",
    "cfg = get_config()\n",
    "cfg['batch_size'] = 32\n",
    "cfg['preload'] = None\n",
    "cfg['num_epochs'] = 30\n",
    "\n",
    "import torch\n",
    "torch.cuda.amp.autocast_mode.autocast(enabled=True)\n",
    "\n",
    "from train import train_model\n",
    "\n",
    "train_model(cfg)"
   ]
  },
  {
   "cell_type": "code",
   "execution_count": null,
   "metadata": {},
   "outputs": [],
   "source": []
  },
  {
   "cell_type": "code",
   "execution_count": null,
   "metadata": {},
   "outputs": [],
   "source": []
  },
  {
   "cell_type": "code",
   "execution_count": null,
   "metadata": {},
   "outputs": [],
   "source": []
  }
 ],
 "metadata": {
  "kernelspec": {
   "display_name": "Python 3",
   "language": "python",
   "name": "python3"
  },
  "language_info": {
   "codemirror_mode": {
    "name": "ipython",
    "version": 3
   },
   "file_extension": ".py",
   "mimetype": "text/x-python",
   "name": "python",
   "nbconvert_exporter": "python",
   "pygments_lexer": "ipython3",
   "version": "3.10.12"
  },
  "orig_nbformat": 4
 },
 "nbformat": 4,
 "nbformat_minor": 2
}
