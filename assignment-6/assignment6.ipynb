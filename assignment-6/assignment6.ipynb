{
 "cells": [
  {
   "cell_type": "code",
   "execution_count": 1,
   "metadata": {},
   "outputs": [],
   "source": [
    "import torch\n",
    "import torch.nn as nn\n",
    "import torch.nn.functional as F\n",
    "from torchsummary import summary\n",
    "from tqdm import tqdm"
   ]
  },
  {
   "cell_type": "code",
   "execution_count": 2,
   "metadata": {},
   "outputs": [],
   "source": [
    "from model import myCNN\n",
    "from utils import *"
   ]
  },
  {
   "cell_type": "code",
   "execution_count": 3,
   "metadata": {},
   "outputs": [
    {
     "data": {
      "text/plain": [
       "<torch._C.Generator at 0x7f1303187570>"
      ]
     },
     "execution_count": 3,
     "metadata": {},
     "output_type": "execute_result"
    }
   ],
   "source": [
    "torch.manual_seed(1)"
   ]
  },
  {
   "cell_type": "code",
   "execution_count": 4,
   "metadata": {},
   "outputs": [],
   "source": [
    "BATCH_SIZE=128"
   ]
  },
  {
   "cell_type": "code",
   "execution_count": 5,
   "metadata": {},
   "outputs": [],
   "source": [
    "device = torch.device(\"cuda\" if torch.cuda.is_available() else \"cpu\")"
   ]
  },
  {
   "cell_type": "code",
   "execution_count": 6,
   "metadata": {},
   "outputs": [
    {
     "name": "stdout",
     "output_type": "stream",
     "text": [
      "----------------------------------------------------------------\n",
      "        Layer (type)               Output Shape         Param #\n",
      "================================================================\n",
      "            Conv2d-1           [-1, 16, 26, 26]             144\n",
      "              ReLU-2           [-1, 16, 26, 26]               0\n",
      "       BatchNorm2d-3           [-1, 16, 26, 26]              32\n",
      "         Dropout2d-4           [-1, 16, 26, 26]               0\n",
      "            Conv2d-5           [-1, 32, 24, 24]           4,608\n",
      "              ReLU-6           [-1, 32, 24, 24]               0\n",
      "       BatchNorm2d-7           [-1, 32, 24, 24]              64\n",
      "         Dropout2d-8           [-1, 32, 24, 24]               0\n",
      "            Conv2d-9           [-1, 20, 24, 24]             640\n",
      "        MaxPool2d-10           [-1, 20, 12, 12]               0\n",
      "           Conv2d-11           [-1, 32, 10, 10]           5,760\n",
      "             ReLU-12           [-1, 32, 10, 10]               0\n",
      "      BatchNorm2d-13           [-1, 32, 10, 10]              64\n",
      "        Dropout2d-14           [-1, 32, 10, 10]               0\n",
      "           Conv2d-15             [-1, 16, 8, 8]           4,608\n",
      "             ReLU-16             [-1, 16, 8, 8]               0\n",
      "      BatchNorm2d-17             [-1, 16, 8, 8]              32\n",
      "        Dropout2d-18             [-1, 16, 8, 8]               0\n",
      "           Conv2d-19             [-1, 16, 6, 6]           2,304\n",
      "             ReLU-20             [-1, 16, 6, 6]               0\n",
      "      BatchNorm2d-21             [-1, 16, 6, 6]              32\n",
      "        Dropout2d-22             [-1, 16, 6, 6]               0\n",
      "        AvgPool2d-23             [-1, 16, 1, 1]               0\n",
      "           Conv2d-24             [-1, 10, 1, 1]             160\n",
      "================================================================\n",
      "Total params: 18,448\n",
      "Trainable params: 18,448\n",
      "Non-trainable params: 0\n",
      "----------------------------------------------------------------\n",
      "Input size (MB): 0.00\n",
      "Forward/backward pass size (MB): 1.15\n",
      "Params size (MB): 0.07\n",
      "Estimated Total Size (MB): 1.22\n",
      "----------------------------------------------------------------\n"
     ]
    }
   ],
   "source": [
    "model = myCNN().to(device)\n",
    "summary(model, input_size=(1, 28, 28))"
   ]
  },
  {
   "cell_type": "code",
   "execution_count": 7,
   "metadata": {},
   "outputs": [],
   "source": [
    "default_train_transforms = transforms.Compose([\n",
    "                                        transforms.RandomRotation((-7.0, 7.0), fill=(1,)),\n",
    "                                       transforms.ToTensor(),\n",
    "                                       transforms.Normalize((0.1307,), (0.3081,))]) #None\n",
    "default_test_transforms = transforms.Compose([\n",
    "                        transforms.ToTensor(),\n",
    "                        transforms.Normalize((0.1307,), (0.3081,))\n",
    "                    ]) #None"
   ]
  },
  {
   "cell_type": "code",
   "execution_count": 8,
   "metadata": {},
   "outputs": [],
   "source": [
    "train_dataloader, test_dataloader = get_augmented_MNIST_dataset(\"~/work/data/\", \n",
    "                                    train_tfms=default_train_transforms, test_tfms=default_test_transforms,\n",
    "                                    batch_sz=BATCH_SIZE)"
   ]
  },
  {
   "cell_type": "code",
   "execution_count": 9,
   "metadata": {},
   "outputs": [],
   "source": [
    "optimizer = torch.optim.SGD(model.parameters(), lr=0.01, momentum=0.9)"
   ]
  },
  {
   "cell_type": "code",
   "execution_count": 10,
   "metadata": {},
   "outputs": [
    {
     "name": "stdout",
     "output_type": "stream",
     "text": [
      "Running EPOCH: 1\n"
     ]
    },
    {
     "name": "stderr",
     "output_type": "stream",
     "text": [
      "loss=0.20169763267040253 batch_id=468: 100%|██████████| 469/469 [00:01<00:00, 290.86it/s]\n"
     ]
    },
    {
     "name": "stdout",
     "output_type": "stream",
     "text": [
      "\n",
      "Test set: Average loss: 0.0869, Accuracy: 9783/10000 (97.83%)\n",
      "\n",
      "Running EPOCH: 2\n"
     ]
    },
    {
     "name": "stderr",
     "output_type": "stream",
     "text": [
      "loss=0.16689227521419525 batch_id=468: 100%|██████████| 469/469 [00:01<00:00, 293.01it/s]\n"
     ]
    },
    {
     "name": "stdout",
     "output_type": "stream",
     "text": [
      "\n",
      "Test set: Average loss: 0.0532, Accuracy: 9859/10000 (98.59%)\n",
      "\n",
      "Running EPOCH: 3\n"
     ]
    },
    {
     "name": "stderr",
     "output_type": "stream",
     "text": [
      "loss=0.057622577995061874 batch_id=468: 100%|██████████| 469/469 [00:01<00:00, 313.31it/s]\n"
     ]
    },
    {
     "name": "stdout",
     "output_type": "stream",
     "text": [
      "\n",
      "Test set: Average loss: 0.0396, Accuracy: 9881/10000 (98.81%)\n",
      "\n",
      "Running EPOCH: 4\n"
     ]
    },
    {
     "name": "stderr",
     "output_type": "stream",
     "text": [
      "loss=0.18142515420913696 batch_id=468: 100%|██████████| 469/469 [00:01<00:00, 297.26it/s] \n"
     ]
    },
    {
     "name": "stdout",
     "output_type": "stream",
     "text": [
      "\n",
      "Test set: Average loss: 0.0355, Accuracy: 9900/10000 (99.00%)\n",
      "\n",
      "Running EPOCH: 5\n"
     ]
    },
    {
     "name": "stderr",
     "output_type": "stream",
     "text": [
      "loss=0.25272342562675476 batch_id=468: 100%|██████████| 469/469 [00:01<00:00, 310.67it/s] \n"
     ]
    },
    {
     "name": "stdout",
     "output_type": "stream",
     "text": [
      "\n",
      "Test set: Average loss: 0.0319, Accuracy: 9897/10000 (98.97%)\n",
      "\n",
      "Running EPOCH: 6\n"
     ]
    },
    {
     "name": "stderr",
     "output_type": "stream",
     "text": [
      "loss=0.06666181981563568 batch_id=468: 100%|██████████| 469/469 [00:01<00:00, 309.93it/s] \n"
     ]
    },
    {
     "name": "stdout",
     "output_type": "stream",
     "text": [
      "\n",
      "Test set: Average loss: 0.0292, Accuracy: 9906/10000 (99.06%)\n",
      "\n",
      "Running EPOCH: 7\n"
     ]
    },
    {
     "name": "stderr",
     "output_type": "stream",
     "text": [
      "loss=0.04264453053474426 batch_id=468: 100%|██████████| 469/469 [00:01<00:00, 318.95it/s] \n"
     ]
    },
    {
     "name": "stdout",
     "output_type": "stream",
     "text": [
      "\n",
      "Test set: Average loss: 0.0263, Accuracy: 9918/10000 (99.18%)\n",
      "\n",
      "Running EPOCH: 8\n"
     ]
    },
    {
     "name": "stderr",
     "output_type": "stream",
     "text": [
      "loss=0.08800854533910751 batch_id=468: 100%|██████████| 469/469 [00:01<00:00, 293.07it/s] \n"
     ]
    },
    {
     "name": "stdout",
     "output_type": "stream",
     "text": [
      "\n",
      "Test set: Average loss: 0.0249, Accuracy: 9915/10000 (99.15%)\n",
      "\n",
      "Running EPOCH: 9\n"
     ]
    },
    {
     "name": "stderr",
     "output_type": "stream",
     "text": [
      "loss=0.09074630588293076 batch_id=468: 100%|██████████| 469/469 [00:01<00:00, 309.42it/s] \n"
     ]
    },
    {
     "name": "stdout",
     "output_type": "stream",
     "text": [
      "\n",
      "Test set: Average loss: 0.0272, Accuracy: 9910/10000 (99.10%)\n",
      "\n",
      "Running EPOCH: 10\n"
     ]
    },
    {
     "name": "stderr",
     "output_type": "stream",
     "text": [
      "loss=0.029153769835829735 batch_id=468: 100%|██████████| 469/469 [00:01<00:00, 314.07it/s]\n"
     ]
    },
    {
     "name": "stdout",
     "output_type": "stream",
     "text": [
      "\n",
      "Test set: Average loss: 0.0245, Accuracy: 9925/10000 (99.25%)\n",
      "\n",
      "Running EPOCH: 11\n"
     ]
    },
    {
     "name": "stderr",
     "output_type": "stream",
     "text": [
      "loss=0.15016590058803558 batch_id=468: 100%|██████████| 469/469 [00:01<00:00, 311.46it/s] \n"
     ]
    },
    {
     "name": "stdout",
     "output_type": "stream",
     "text": [
      "\n",
      "Test set: Average loss: 0.0242, Accuracy: 9925/10000 (99.25%)\n",
      "\n",
      "Running EPOCH: 12\n"
     ]
    },
    {
     "name": "stderr",
     "output_type": "stream",
     "text": [
      "loss=0.08010370284318924 batch_id=468: 100%|██████████| 469/469 [00:01<00:00, 308.32it/s] \n"
     ]
    },
    {
     "name": "stdout",
     "output_type": "stream",
     "text": [
      "\n",
      "Test set: Average loss: 0.0232, Accuracy: 9932/10000 (99.32%)\n",
      "\n",
      "Running EPOCH: 13\n"
     ]
    },
    {
     "name": "stderr",
     "output_type": "stream",
     "text": [
      "loss=0.026845769956707954 batch_id=468: 100%|██████████| 469/469 [00:01<00:00, 313.46it/s]\n"
     ]
    },
    {
     "name": "stdout",
     "output_type": "stream",
     "text": [
      "\n",
      "Test set: Average loss: 0.0251, Accuracy: 9920/10000 (99.20%)\n",
      "\n",
      "Running EPOCH: 14\n"
     ]
    },
    {
     "name": "stderr",
     "output_type": "stream",
     "text": [
      "loss=0.11611440777778625 batch_id=468: 100%|██████████| 469/469 [00:01<00:00, 296.59it/s] \n"
     ]
    },
    {
     "name": "stdout",
     "output_type": "stream",
     "text": [
      "\n",
      "Test set: Average loss: 0.0200, Accuracy: 9939/10000 (99.39%)\n",
      "\n",
      "Running EPOCH: 15\n"
     ]
    },
    {
     "name": "stderr",
     "output_type": "stream",
     "text": [
      "loss=0.025154976174235344 batch_id=468: 100%|██████████| 469/469 [00:01<00:00, 304.84it/s]\n"
     ]
    },
    {
     "name": "stdout",
     "output_type": "stream",
     "text": [
      "\n",
      "Test set: Average loss: 0.0224, Accuracy: 9925/10000 (99.25%)\n",
      "\n",
      "Running EPOCH: 16\n"
     ]
    },
    {
     "name": "stderr",
     "output_type": "stream",
     "text": [
      "loss=0.21799401938915253 batch_id=468: 100%|██████████| 469/469 [00:01<00:00, 299.14it/s] \n"
     ]
    },
    {
     "name": "stdout",
     "output_type": "stream",
     "text": [
      "\n",
      "Test set: Average loss: 0.0209, Accuracy: 9926/10000 (99.26%)\n",
      "\n",
      "Running EPOCH: 17\n"
     ]
    },
    {
     "name": "stderr",
     "output_type": "stream",
     "text": [
      "loss=0.06258462369441986 batch_id=468: 100%|██████████| 469/469 [00:01<00:00, 301.63it/s] \n"
     ]
    },
    {
     "name": "stdout",
     "output_type": "stream",
     "text": [
      "\n",
      "Test set: Average loss: 0.0199, Accuracy: 9935/10000 (99.35%)\n",
      "\n",
      "Running EPOCH: 18\n"
     ]
    },
    {
     "name": "stderr",
     "output_type": "stream",
     "text": [
      "loss=0.1573498398065567 batch_id=468: 100%|██████████| 469/469 [00:01<00:00, 303.77it/s]  \n"
     ]
    },
    {
     "name": "stdout",
     "output_type": "stream",
     "text": [
      "\n",
      "Test set: Average loss: 0.0215, Accuracy: 9933/10000 (99.33%)\n",
      "\n",
      "Running EPOCH: 19\n"
     ]
    },
    {
     "name": "stderr",
     "output_type": "stream",
     "text": [
      "loss=0.01866978220641613 batch_id=468: 100%|██████████| 469/469 [00:01<00:00, 305.87it/s] \n"
     ]
    },
    {
     "name": "stdout",
     "output_type": "stream",
     "text": [
      "\n",
      "Test set: Average loss: 0.0194, Accuracy: 9940/10000 (99.40%)\n",
      "\n",
      "Running EPOCH: 20\n"
     ]
    },
    {
     "name": "stderr",
     "output_type": "stream",
     "text": [
      "loss=0.044775012880563736 batch_id=468: 100%|██████████| 469/469 [00:01<00:00, 306.18it/s]\n"
     ]
    },
    {
     "name": "stdout",
     "output_type": "stream",
     "text": [
      "\n",
      "Test set: Average loss: 0.0190, Accuracy: 9934/10000 (99.34%)\n",
      "\n"
     ]
    }
   ],
   "source": [
    "EPOCHS = 20\n",
    "for i in range(EPOCHS):\n",
    "    print(\"Running EPOCH: \"+str(i+1))\n",
    "    train(model, device, train_dataloader, optimizer=optimizer, epoch=i)\n",
    "    test(model, device, test_dataloader)"
   ]
  },
  {
   "cell_type": "code",
   "execution_count": null,
   "metadata": {},
   "outputs": [],
   "source": []
  }
 ],
 "metadata": {
  "kernelspec": {
   "display_name": "base",
   "language": "python",
   "name": "python3"
  },
  "language_info": {
   "codemirror_mode": {
    "name": "ipython",
    "version": 3
   },
   "file_extension": ".py",
   "mimetype": "text/x-python",
   "name": "python",
   "nbconvert_exporter": "python",
   "pygments_lexer": "ipython3",
   "version": "3.10.10"
  },
  "orig_nbformat": 4
 },
 "nbformat": 4,
 "nbformat_minor": 2
}
